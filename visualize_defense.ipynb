{
 "cells": [
  {
   "cell_type": "markdown",
   "metadata": {},
   "source": [
    "# Visualizing Defense\n",
    "\n",
    "This notebook explores the defensive statistics available through the [stats.nba.com](https://stats.nba.com) API at the player level. The following explores the `playerdashptshotdefend` endoint through the `Player` class in the `py_ball` package."
   ]
  },
  {
   "cell_type": "code",
   "execution_count": 1,
   "metadata": {
    "collapsed": true
   },
   "outputs": [],
   "source": [
    "from io import BytesIO\n",
    "import pandas as pd\n",
    "import numpy as np\n",
    "import matplotlib\n",
    "import matplotlib.pyplot as plt\n",
    "from matplotlib.patches import Arc, Wedge\n",
    "from PIL import Image\n",
    "import time\n",
    "\n",
    "from py_ball import player\n",
    "\n",
    "HEADERS = {'Connection': 'close',\n",
    "           'Host': 'stats.nba.com',\n",
    "           'Origin': 'http://stats.nba.com',\n",
    "           'Upgrade-Insecure-Requests': '1',\n",
    "           'User-Agent': 'Mozilla/5.0 (Macintosh; Intel Mac OS X 10_13_2)' + \\\n",
    "                         'AppleWebKit/537.36 (KHTML, like Gecko) ' + \\\n",
    "                         'Chrome/66.0.3359.117 Safari/537.36'}\n",
    "\n",
    "pd.options.mode.chained_assignment = None  # Disabling pandas SetWithCopyWarnings"
   ]
  },
  {
   "cell_type": "code",
   "execution_count": 2,
   "metadata": {},
   "outputs": [
    {
     "data": {
      "text/plain": [
       "dict_keys(['DefendingShots'])"
      ]
     },
     "execution_count": 2,
     "metadata": {},
     "output_type": "execute_result"
    }
   ],
   "source": [
    "league_id = '00' #NBA\n",
    "player_id = '203954'\n",
    "season = '2018-19'\n",
    "team_id = '0'\n",
    "game_id = '0'\n",
    "per_mode = 'PerGame'\n",
    "\n",
    "players = player.Player(headers=HEADERS,\n",
    "                        endpoint='playerdashptshotdefend',\n",
    "                        league_id=league_id,\n",
    "                        player_id=player_id,\n",
    "                        season=season,\n",
    "                        team_id=team_id,\n",
    "                        game_id=game_id,\n",
    "                        per_mode=per_mode)\n",
    "\n",
    "players.data.keys()"
   ]
  },
  {
   "cell_type": "code",
   "execution_count": 3,
   "metadata": {},
   "outputs": [
    {
     "data": {
      "text/html": [
       "<div>\n",
       "<style>\n",
       "    .dataframe thead tr:only-child th {\n",
       "        text-align: right;\n",
       "    }\n",
       "\n",
       "    .dataframe thead th {\n",
       "        text-align: left;\n",
       "    }\n",
       "\n",
       "    .dataframe tbody tr th {\n",
       "        vertical-align: top;\n",
       "    }\n",
       "</style>\n",
       "<table border=\"1\" class=\"dataframe\">\n",
       "  <thead>\n",
       "    <tr style=\"text-align: right;\">\n",
       "      <th></th>\n",
       "      <th>CLOSE_DEF_PERSON_ID</th>\n",
       "      <th>DEFENSE_CATEGORY</th>\n",
       "      <th>D_FGA</th>\n",
       "      <th>D_FGM</th>\n",
       "      <th>D_FG_PCT</th>\n",
       "      <th>FREQ</th>\n",
       "      <th>G</th>\n",
       "      <th>GP</th>\n",
       "      <th>NORMAL_FG_PCT</th>\n",
       "      <th>PCT_PLUSMINUS</th>\n",
       "    </tr>\n",
       "  </thead>\n",
       "  <tbody>\n",
       "    <tr>\n",
       "      <th>0</th>\n",
       "      <td>203954</td>\n",
       "      <td>Overall</td>\n",
       "      <td>17.58</td>\n",
       "      <td>7.94</td>\n",
       "      <td>0.452</td>\n",
       "      <td>1.000</td>\n",
       "      <td>50</td>\n",
       "      <td>50</td>\n",
       "      <td>0.482</td>\n",
       "      <td>-0.031</td>\n",
       "    </tr>\n",
       "    <tr>\n",
       "      <th>1</th>\n",
       "      <td>203954</td>\n",
       "      <td>3 Pointers</td>\n",
       "      <td>3.44</td>\n",
       "      <td>1.20</td>\n",
       "      <td>0.349</td>\n",
       "      <td>0.196</td>\n",
       "      <td>49</td>\n",
       "      <td>50</td>\n",
       "      <td>0.352</td>\n",
       "      <td>-0.004</td>\n",
       "    </tr>\n",
       "    <tr>\n",
       "      <th>2</th>\n",
       "      <td>203954</td>\n",
       "      <td>2 Pointers</td>\n",
       "      <td>14.14</td>\n",
       "      <td>6.74</td>\n",
       "      <td>0.477</td>\n",
       "      <td>0.804</td>\n",
       "      <td>50</td>\n",
       "      <td>50</td>\n",
       "      <td>0.527</td>\n",
       "      <td>-0.050</td>\n",
       "    </tr>\n",
       "    <tr>\n",
       "      <th>3</th>\n",
       "      <td>203954</td>\n",
       "      <td>Less Than 6 Ft</td>\n",
       "      <td>8.78</td>\n",
       "      <td>4.72</td>\n",
       "      <td>0.538</td>\n",
       "      <td>0.499</td>\n",
       "      <td>50</td>\n",
       "      <td>50</td>\n",
       "      <td>0.614</td>\n",
       "      <td>-0.077</td>\n",
       "    </tr>\n",
       "    <tr>\n",
       "      <th>4</th>\n",
       "      <td>203954</td>\n",
       "      <td>Less Than 10 Ft</td>\n",
       "      <td>10.66</td>\n",
       "      <td>5.28</td>\n",
       "      <td>0.495</td>\n",
       "      <td>0.606</td>\n",
       "      <td>50</td>\n",
       "      <td>50</td>\n",
       "      <td>0.566</td>\n",
       "      <td>-0.070</td>\n",
       "    </tr>\n",
       "    <tr>\n",
       "      <th>5</th>\n",
       "      <td>203954</td>\n",
       "      <td>Greater Than 15 Ft</td>\n",
       "      <td>5.56</td>\n",
       "      <td>2.06</td>\n",
       "      <td>0.371</td>\n",
       "      <td>0.316</td>\n",
       "      <td>50</td>\n",
       "      <td>50</td>\n",
       "      <td>0.366</td>\n",
       "      <td>0.004</td>\n",
       "    </tr>\n",
       "  </tbody>\n",
       "</table>\n",
       "</div>"
      ],
      "text/plain": [
       "   CLOSE_DEF_PERSON_ID    DEFENSE_CATEGORY  D_FGA  D_FGM  D_FG_PCT   FREQ   G  \\\n",
       "0               203954             Overall  17.58   7.94     0.452  1.000  50   \n",
       "1               203954          3 Pointers   3.44   1.20     0.349  0.196  49   \n",
       "2               203954          2 Pointers  14.14   6.74     0.477  0.804  50   \n",
       "3               203954      Less Than 6 Ft   8.78   4.72     0.538  0.499  50   \n",
       "4               203954     Less Than 10 Ft  10.66   5.28     0.495  0.606  50   \n",
       "5               203954  Greater Than 15 Ft   5.56   2.06     0.371  0.316  50   \n",
       "\n",
       "   GP  NORMAL_FG_PCT  PCT_PLUSMINUS  \n",
       "0  50          0.482         -0.031  \n",
       "1  50          0.352         -0.004  \n",
       "2  50          0.527         -0.050  \n",
       "3  50          0.614         -0.077  \n",
       "4  50          0.566         -0.070  \n",
       "5  50          0.366          0.004  "
      ]
     },
     "execution_count": 3,
     "metadata": {},
     "output_type": "execute_result"
    }
   ],
   "source": [
    "defense_df = pd.DataFrame(players.data['DefendingShots'])\n",
    "defense_df.head(10)"
   ]
  },
  {
   "cell_type": "markdown",
   "metadata": {},
   "source": [
    "The `defense_df` shows an example for the data returned for Joel Embiid in the 2018-19 season. At this point, it'll be useful to define some of the features above.\n",
    "- `CLOSE_DEF_PERSON_ID`: Unique identifier of the closest defender (Joel Embiid in this case due to our API call specifying his ID)\n",
    "- `DEFENSE_CATEGORY`: Subsets of distance and shot type\n",
    "- `D_FGA`: Field goal attempts per game for which the given player is the closest defender\n",
    "- `D_FGM`: Field goals made per game for which the given player is the closest defender\n",
    "- `D_FG_PCT`: Field goal percentage on shots for which the given player is the closest defender\n",
    "- `FREQ`: Proportion of shots corresponding to the `DEFENSE_CATEGORY`\n",
    "- `NORMAL_FG_PCT`: Expected field goal percentage of the shooters\n",
    "- `PCT_PLUSMINUS`: `D_FG_PCT` - `NORMAL_FG_PCT`. A good definition of this value can be found [here](https://stats.nba.com/help/glossary/#diffpct)\n",
    "\n",
    "Joel Embiid clearly has an impact on the shooting percentage of opponents especially on shots within 6 feet."
   ]
  },
  {
   "cell_type": "markdown",
   "metadata": {},
   "source": [
    "# Visualizations\n",
    "\n",
    "The unique `DEFENSE_CATEGORY` values do not easily lend themselves to clear data visualization. Ideally, these categories would be distinct (with the exception of `Overall`) so that each area could be isolated. However, the following will use `3 Pointers`, `2 Pointers`, `Less Than 10 Ft`, and `Less Than 6 Ft` to visualize defensive impact, with the understanding that the distance categories are subsets of the `2 Pointers` category. The following repeats the `draw_court` function from some of the other exploratory repos."
   ]
  },
  {
   "cell_type": "code",
   "execution_count": 4,
   "metadata": {
    "collapsed": true
   },
   "outputs": [],
   "source": [
    "def draw_court():\n",
    "    \"\"\" draw_court draws an NBA halfcourt\n",
    "    \n",
    "    Returns:\n",
    "    \n",
    "        fig (matplotlib.figure.Figure): Figure object visualizing\n",
    "            an NBA court\n",
    "    \"\"\"\n",
    "\n",
    "    fig = plt.figure(figsize=(9, 9))\n",
    "    axis = fig.add_subplot(111, aspect='auto')\n",
    "\n",
    "    plt.plot([-250, 250], [-40, -40], 'k-') # endline\n",
    "    plt.plot([-250, 250], [430, 430], 'k-') # halfcourt line\n",
    "    plt.plot([-250, -250], [-40, 430], 'k-') # sideline\n",
    "    plt.plot([250, 250], [-40, 430], 'k-') # sideline\n",
    "    \n",
    "    plt.plot([-30, 30], [-10, -10], 'k-') # backboard\n",
    "    plt.plot([-60, -60], [-40, 150], 'k-') # lane\n",
    "    plt.plot([60, 60], [-40, 150], 'k-') # lane\n",
    "    plt.plot([-80, -80], [-40, 150], 'k-') # lane\n",
    "    plt.plot([80, 80], [-40, 150], 'k-') # lane\n",
    "    plt.plot([-80, 80], [150, 150], 'k-') # foul line\n",
    "\n",
    "    plt.plot([220, 220], [-40, 90], 'k-') # 3pt straight\n",
    "    plt.plot([-220, -220], [-40, 90], 'k-') # 3pt straight\n",
    "\n",
    "    three_point = Arc((0, 0), width=237.5*2, height=237.5*2, theta1=22, theta2=158, linewidth=1.5)\n",
    "    top_key = Arc((0, 150), width=60*2, height=60*2, theta1=0, theta2=180, linewidth=1.5)\n",
    "    bottom_key = Arc((0, 150), width=60*2, height=60*2, theta1=180, theta2=360, linewidth=1.5, linestyle='--')\n",
    "    basket = Arc((0, 0), width=7.5*2, height=7.5*2, theta1=0, theta2=360, linewidth=1.5)\n",
    "    restricted = Arc((0, 7.5), width=40*2, height=40*2, theta1=0, theta2=180, linewidth=1.5)\n",
    "    half_court = Arc((0, 430), width=60*2, height=60*2, theta1=180, theta2=360, linewidth=1.5)\n",
    "\n",
    "    axis.add_patch(three_point)\n",
    "    axis.add_patch(top_key)\n",
    "    axis.add_patch(bottom_key)\n",
    "    axis.add_patch(basket)\n",
    "    axis.add_patch(restricted)\n",
    "    axis.add_patch(half_court)\n",
    "\n",
    "    plt.ylim(-50, 450)\n",
    "    axis.set_aspect(1.0)\n",
    "    plt.axis('off')\n",
    "\n",
    "    return fig, axis"
   ]
  },
  {
   "cell_type": "code",
   "execution_count": 5,
   "metadata": {},
   "outputs": [],
   "source": [
    "court, court_axis = draw_court()"
   ]
  },
  {
   "cell_type": "code",
   "execution_count": 6,
   "metadata": {},
   "outputs": [
    {
     "data": {
      "image/png": "[encoded data removed]",
      "text/plain": [
       "<matplotlib.figure.Figure at 0x1108c5860>"
      ]
     },
     "execution_count": 6,
     "metadata": {},
     "output_type": "execute_result"
    }
   ],
   "source": [
    "court"
   ]
  },
  {
   "cell_type": "code",
   "execution_count": 7,
   "metadata": {
    "collapsed": true
   },
   "outputs": [],
   "source": [
    "def plot_defense(player_id, defense_df):\n",
    "\n",
    "    player_df = defense_df[defense_df['CLOSE_DEF_PERSON_ID']==player_id]\n",
    "\n",
    "    court, court_axis = draw_court()\n",
    "\n",
    "    three_pointers = (player_df[player_df['DEFENSE_CATEGORY']=='3 Pointers']['PCT_PLUSMINUS'].iloc[0] + 0.1)/0.2\n",
    "    two_pointers = (player_df[player_df['DEFENSE_CATEGORY']=='2 Pointers']['PCT_PLUSMINUS'].iloc[0] + 0.1)/0.2\n",
    "    ten_ft = (player_df[player_df['DEFENSE_CATEGORY']=='Less Than 10 Ft']['PCT_PLUSMINUS'].iloc[0] + 0.1)/0.2\n",
    "    six_ft = (player_df[player_df['DEFENSE_CATEGORY']=='Less Than 6 Ft']['PCT_PLUSMINUS'].iloc[0] + 0.1)/0.2\n",
    "    \n",
    "    cmap = matplotlib.cm.get_cmap('coolwarm')\n",
    "\n",
    "    six_area = Wedge((0, 0), r=60, theta1=0, theta2=180, color=cmap(six_ft), alpha=0.5)\n",
    "    ten_area = Wedge((0, 0), r=100, width=40, theta1=0, theta2=180, color=cmap(ten_ft), alpha=0.5)\n",
    "    two_pt_area = Wedge((0, 0), r=237.5, width=137.5, theta1=22, theta2=158, color=cmap(two_pointers), alpha=0.5)\n",
    "    three_pt_area = Wedge((0, 0), r=267.5, width=30, theta1=22, theta2=158, color=cmap(three_pointers), alpha=0.5)\n",
    "    court_axis.add_patch(six_area)\n",
    "    court_axis.add_patch(ten_area)\n",
    "    court_axis.add_patch(two_pt_area)\n",
    "    court_axis.add_patch(three_pt_area)\n",
    "\n",
    "    x = np.arange(-220, -94, 0.01)\n",
    "    y = [90 - ((xx+220)*0.4) - 2.05 for xx in x]\n",
    "    court_axis.fill_between(x, [0]*len(x), y, facecolor=cmap(two_pointers), alpha=0.5)\n",
    "\n",
    "    x = np.arange(94, 220, 0.01)\n",
    "    y = [39.6 + ((xx-94)*0.4) - 2.05 for xx in x]\n",
    "    court_axis.fill_between(x, [0]*len(x), y, facecolor=cmap(two_pointers), alpha=0.5)\n",
    "    \n",
    "    x = np.arange(-250, -220, 0.01)\n",
    "    y = [100 - ((xx+250)*0.4) for xx in x]\n",
    "    court_axis.fill_between(x, [0]*len(x), y, facecolor=cmap(three_pointers), alpha=0.5)\n",
    "\n",
    "    x = np.arange(220, 250, 0.01)\n",
    "    y = [88 + ((xx-220)*0.4) for xx in x]\n",
    "    court_axis.fill_between(x, [0]*len(x), y, facecolor=cmap(three_pointers), alpha=0.5)\n",
    "\n",
    "    cax, _ = matplotlib.colorbar.make_axes(court_axis)\n",
    "    norm = matplotlib.colors.Normalize(vmin=-0.1, vmax=0.1)\n",
    "    cb1 = matplotlib.colorbar.ColorbarBase(cax, cmap=cmap,\n",
    "                                           norm=norm)\n",
    "    cb1.set_label('DIFF%')\n",
    "\n",
    "    plt.close()\n",
    "\n",
    "    return court, court_axis"
   ]
  },
  {
   "cell_type": "code",
   "execution_count": 8,
   "metadata": {},
   "outputs": [],
   "source": [
    "def_court, def_court_axis = plot_defense(203954, defense_df)"
   ]
  },
  {
   "cell_type": "code",
   "execution_count": 9,
   "metadata": {},
   "outputs": [
    {
     "data": {
      "image/png": "[encoded data removed]",
      "text/plain": [
       "<matplotlib.figure.Figure at 0x11a82be48>"
      ]
     },
     "execution_count": 9,
     "metadata": {},
     "output_type": "execute_result"
    }
   ],
   "source": [
    "def_court"
   ]
  },
  {
   "cell_type": "code",
   "execution_count": null,
   "metadata": {
    "collapsed": true
   },
   "outputs": [],
   "source": []
  }
 ],
 "metadata": {
  "kernelspec": {
   "display_name": "Python 3",
   "language": "python",
   "name": "python3"
  },
  "language_info": {
   "codemirror_mode": {
    "name": "ipython",
    "version": 3
   },
   "file_extension": ".py",
   "mimetype": "text/x-python",
   "name": "python",
   "nbconvert_exporter": "python",
   "pygments_lexer": "ipython3",
   "version": "3.6.1"
  }
 },
 "nbformat": 4,
 "nbformat_minor": 2
}
